{
 "cells": [
  {
   "cell_type": "markdown",
   "metadata": {},
   "source": [
    "# Challenges for week 1\n",
    "\n",
    "Now that we've seen how Python and Jupyter Notebooks work, it's time for you to apply this knowledge. This week has three challenges. Make sure to give it a try and complete all of them. \n",
    "\n",
    "**Some important notes for the challenges:**\n",
    "1. These challenges are a warming up, and help you get ready for class. Make sure to give them a try. If you get an error message, try to troubleshoot it (using Google often helps). If all else fails, go to the next challenge (but make sure to hand it in).\n",
    "2. While we of course like when you get all the answers right, the important thing is to exercise and apply the knowledge. So we will still accept challenges that may not be complete, as long as we see enough effort *for each challenge*. This means that if one of the challenges is not delivered (not started and no attempt shown), we unfortunately will not be able to provide a grade for that week.\n",
    "3. Delivering the challenge to the right place is a critical part of the challenge. This means we will only be able to grade and accept challenges that are live on your own private GitHub repository (so with a link starting with https://github.com/uva-cw-digitalanalytics/1920s2-) **and** delivered on time as a Canvas assignment. Watch the videos on Canvas on how to hand in your challenges.\n",
    "\n",
    "### Facing issues? \n",
    "\n",
    "We are constantly monitoring the issues on the GitHub general repository (https://github.com/uva-cw-digitalanalytics/1920s2/issues) to help you out. Don't hesitate to log an issue there, explaining well what the problem is, showing the code you are using, and the error message you may be receiving. \n",
    "\n",
    "**Important:** We are only monitoring the repository in weekdays, and until 17.00. Issues logged after this time will most likely be answered the next day. This means you should now wait for our response before submitting a challenge :-)\n",
    "\n",
    "\n",
    "## Challenge 1\n",
    "\n",
    "Check out how to add an image and a link in a cell in MarkDown. You may need to search this online. Check how to do it, and include an image and a link in your notebook."
   ]
  },
  {
   "cell_type": "markdown",
   "metadata": {},
   "source": [
    "[Miltos](https://www.youtube.com/watch?v=XBv2HQMfF4Q)"
   ]
  },
  {
   "cell_type": "markdown",
   "metadata": {},
   "source": [
    "![](Dori.jpg)"
   ]
  },
  {
   "cell_type": "markdown",
   "metadata": {},
   "source": [
    "## Challenge 2\n",
    "\n",
    "Below you have a list of visitors again, and in particular their referral. Create a function that categorizes the visitors according to some interesting set of categories.\n",
    "\n",
    "Please note that a part of the code is already written - with a loop that checks each item in the list. You need to complete the function.\n",
    "\n",
    "\n",
    "\n"
   ]
  },
  {
   "cell_type": "code",
   "execution_count": 9,
   "metadata": {},
   "outputs": [],
   "source": [
    "visitors = ['campaign utx=9902',\n",
    "             'instagram app',\n",
    "             'facebook app',\n",
    "             'campaign utx=1389',\n",
    "             'facebook app',\n",
    "             'google search',\n",
    "             'newsletter',\n",
    "             'facebook app',\n",
    "             'newsletter',\n",
    "             'campaign utx=9902',\n",
    "             'instagram app',\n",
    "             'campaign utx=1389',\n",
    "             'newsletter',\n",
    "             'facebook.com',\n",
    "             'facebook app',\n",
    "             'newsletter',\n",
    "             'google search',\n",
    "             'campaign utx=9902',\n",
    "             'campaign utx=9902',\n",
    "             'instagram app',\n",
    "             'organic',\n",
    "             'instagram app',\n",
    "             'news campaign 9902',\n",
    "             'instagram app',\n",
    "             'facebook app',\n",
    "             'facebook.com',\n",
    "             'campaign utx=9902',\n",
    "             'campaign utx=9902',\n",
    "             'campaign utx=1389',\n",
    "             'campaign utx=1389',\n",
    "             'facebook.com',\n",
    "             'news campaign 9902',\n",
    "             'newsletter',\n",
    "             'instagram app',\n",
    "             'instagram app',\n",
    "             'campaign utx=1389',\n",
    "             'direct',\n",
    "             'facebook.com',\n",
    "             'newsletter',\n",
    "             'direct',\n",
    "             'campaign utx=1389',\n",
    "             'direct',\n",
    "             'organic',\n",
    "             'facebook.com',\n",
    "             'facebook.com',\n",
    "             'facebook app',\n",
    "             'campaign utx=9902',\n",
    "             'google search',\n",
    "             'campaign utx=9902',\n",
    "             'campaign utx=1389']"
   ]
  },
  {
   "cell_type": "code",
   "execution_count": 7,
   "metadata": {},
   "outputs": [],
   "source": [
    "def check_visitors(interest):\n",
    "    if interest in ['campaign utx=1389','campaign utx=9902','news campaign 9902']:\n",
    "        return 'campaigns'\n",
    "    if interest in ['google search','facebook.com',]:\n",
    "        return 'websites'\n",
    "    if interest in ['facebook app','instagram app']:\n",
    "        return 'apps'\n",
    "    if interest in ['organic','direct','newsletter']:\n",
    "        return 'mail'\n",
    "    "
   ]
  },
  {
   "cell_type": "code",
   "execution_count": 10,
   "metadata": {},
   "outputs": [
    {
     "name": "stdout",
     "output_type": "stream",
     "text": [
      "campaigns\n",
      "apps\n",
      "apps\n",
      "campaigns\n",
      "apps\n",
      "websites\n",
      "mail\n",
      "apps\n",
      "mail\n",
      "campaigns\n",
      "apps\n",
      "campaigns\n",
      "mail\n",
      "websites\n",
      "apps\n",
      "mail\n",
      "websites\n",
      "campaigns\n",
      "campaigns\n",
      "apps\n",
      "mail\n",
      "apps\n",
      "campaigns\n",
      "apps\n",
      "apps\n",
      "websites\n",
      "campaigns\n",
      "campaigns\n",
      "campaigns\n",
      "campaigns\n",
      "websites\n",
      "campaigns\n",
      "mail\n",
      "apps\n",
      "apps\n",
      "campaigns\n",
      "mail\n",
      "websites\n",
      "mail\n",
      "mail\n",
      "campaigns\n",
      "mail\n",
      "mail\n",
      "websites\n",
      "websites\n",
      "apps\n",
      "campaigns\n",
      "websites\n",
      "campaigns\n",
      "campaigns\n"
     ]
    }
   ],
   "source": [
    "for interest in visitors:\n",
    "    print(check_visitors(interest))"
   ]
  },
  {
   "cell_type": "markdown",
   "metadata": {},
   "source": [
    "## Challenge 3\n",
    "\n",
    "This is the most important challenge of this tutorial, as we will use the concepts here to think how to organize our (digital) data. The paragraph below contains a lot of information. How would you organize this data in a way that you can visualize and work with it later? Consider using lists, dictionaries, tuples... or whatever makes sense to you! \n",
    "\n",
    "Please explain why you decided to do what you did.\n",
    "\n",
    "\n",
    "```\n",
    "John Smith is 32 years old, is an analyst at Salesforce UK,\n",
    "and is father to a young boy. He is divorced. \n",
    "Mary Smith is 21 years old, currently studies at the\n",
    "University of Amsterdam, and was born in the US. \n",
    "Tom Brokaw is a US journalist, born in 1940, \n",
    "married with three children.\n",
    "```\n",
    "\n"
   ]
  },
  {
   "cell_type": "code",
   "execution_count": 24,
   "metadata": {},
   "outputs": [],
   "source": [
    "John_Smith = {'Age':32,'Profession':'Analyst','Children':1,'Marital status':'Divorced','location':'Salesforce UK'}\n",
    "Mary_Smith = {'Age':21,'Profession':'Student','location':'UvA','origin':'US'}\n",
    "Tom_Brokaw = {'Age':80,'Profession':'Journalist','Children':3,'Marital status':'Married','location':'US'}\n",
    "\n",
    "Sample = [John_Smith,Mary_Smith,Tom_Brokaw]"
   ]
  },
  {
   "cell_type": "code",
   "execution_count": 33,
   "metadata": {},
   "outputs": [
    {
     "ename": "SyntaxError",
     "evalue": "invalid syntax (<ipython-input-33-fbde7c393f8a>, line 1)",
     "output_type": "error",
     "traceback": [
      "\u001b[1;36m  File \u001b[1;32m\"<ipython-input-33-fbde7c393f8a>\"\u001b[1;36m, line \u001b[1;32m1\u001b[0m\n\u001b[1;33m    Sample = [JS = {'Name':'John_Smith','Age':32,'Profession':'Analyst','Children':1,'Marital status':'Divorced','location':'Salesforce UK'}, MS = {'Name':'Mary_Smith','Age':21,'Profession':'Student','location':'UvA','origin':'US'}, TB = {'Name':'Tom_Brokaw','Age':80,'Profession':'Journalist','Children':3,'Marital status':'Married','location':'US'}]\u001b[0m\n\u001b[1;37m                 ^\u001b[0m\n\u001b[1;31mSyntaxError\u001b[0m\u001b[1;31m:\u001b[0m invalid syntax\n"
     ]
    }
   ],
   "source": [
    "Sample = [JS = {'Name':'John_Smith','Age':32,'Profession':'Analyst','Children':1,'Marital status':'Divorced','location':'Salesforce UK'}, MS = {'Name':'Mary_Smith','Age':21,'Profession':'Student','location':'UvA','origin':'US'},TB = {'Name':'Tom_Brokaw','Age':80,'Profession':'Journalist','Children':3,'Marital status':'Married','location':'US'}]\n",
    "    "
   ]
  },
  {
   "cell_type": "code",
   "execution_count": 30,
   "metadata": {},
   "outputs": [
    {
     "ename": "NameError",
     "evalue": "name 'Age' is not defined",
     "output_type": "error",
     "traceback": [
      "\u001b[1;31m---------------------------------------------------------------------------\u001b[0m",
      "\u001b[1;31mNameError\u001b[0m                                 Traceback (most recent call last)",
      "\u001b[1;32m<ipython-input-30-641cfb12e127>\u001b[0m in \u001b[0;36m<module>\u001b[1;34m\u001b[0m\n\u001b[1;32m----> 1\u001b[1;33m \u001b[0mSample\u001b[0m\u001b[1;33m[\u001b[0m\u001b[0mAge\u001b[0m\u001b[1;33m]\u001b[0m\u001b[1;33m\u001b[0m\u001b[1;33m\u001b[0m\u001b[0m\n\u001b[0m",
      "\u001b[1;31mNameError\u001b[0m: name 'Age' is not defined"
     ]
    }
   ],
   "source": [
    "Sample[Age]"
   ]
  },
  {
   "cell_type": "code",
   "execution_count": 20,
   "metadata": {},
   "outputs": [
    {
     "ename": "TypeError",
     "evalue": "list indices must be integers or slices, not str",
     "output_type": "error",
     "traceback": [
      "\u001b[1;31m---------------------------------------------------------------------------\u001b[0m",
      "\u001b[1;31mTypeError\u001b[0m                                 Traceback (most recent call last)",
      "\u001b[1;32m<ipython-input-20-c4ea1e096d3b>\u001b[0m in \u001b[0;36m<module>\u001b[1;34m\u001b[0m\n\u001b[1;32m----> 1\u001b[1;33m \u001b[0mSample\u001b[0m\u001b[1;33m[\u001b[0m\u001b[1;34m'Age'\u001b[0m\u001b[1;33m]\u001b[0m\u001b[1;33m\u001b[0m\u001b[1;33m\u001b[0m\u001b[0m\n\u001b[0m",
      "\u001b[1;31mTypeError\u001b[0m: list indices must be integers or slices, not str"
     ]
    }
   ],
   "source": [
    "Sample['Age']"
   ]
  },
  {
   "cell_type": "code",
   "execution_count": 22,
   "metadata": {},
   "outputs": [
    {
     "ename": "SyntaxError",
     "evalue": "invalid syntax (<ipython-input-22-da2a0608c899>, line 1)",
     "output_type": "error",
     "traceback": [
      "\u001b[1;36m  File \u001b[1;32m\"<ipython-input-22-da2a0608c899>\"\u001b[1;36m, line \u001b[1;32m1\u001b[0m\n\u001b[1;33m    Sample = [John_Smith = {'Age':32,'Profession':'Analyst','Children':1,'Marital status':'Divorced','location':'Salesforce UK'},\u001b[0m\n\u001b[1;37m                         ^\u001b[0m\n\u001b[1;31mSyntaxError\u001b[0m\u001b[1;31m:\u001b[0m invalid syntax\n"
     ]
    }
   ],
   "source": [
    "Sample = [John_Smith = {'Age':32,'Profession':'Analyst','Children':1,'Marital status':'Divorced','location':'Salesforce UK'},\n",
    "Mary_Smith = {'Age':21,'Profession':'Student','location':'UvA','origin':'US'},\n",
    "Tom_Brokaw = {'Age':80,'Profession':'Journalist','Children':3,'Marital status':'Married','location':'US'}]"
   ]
  },
  {
   "cell_type": "code",
   "execution_count": 32,
   "metadata": {},
   "outputs": [
    {
     "ename": "SyntaxError",
     "evalue": "invalid syntax (<ipython-input-32-715bfe7550ce>, line 1)",
     "output_type": "error",
     "traceback": [
      "\u001b[1;36m  File \u001b[1;32m\"<ipython-input-32-715bfe7550ce>\"\u001b[1;36m, line \u001b[1;32m1\u001b[0m\n\u001b[1;33m    Sample = [{Name = 'John_Smith', Age = 32, Profession='Analyst', Children = 1, Marital_status = 'Divorced', location = 'Salesforce UK'}, {Name = 'Mary_Smith', Age = 21, Profession = 'Student', location = 'UvA', origin = 'US'},{Name = 'Tom_Brokaw', Age = 80, Profession = 'Journalist', Children = 3, Marital_status = 'Married', location = 'US'}]\u001b[0m\n\u001b[1;37m                    ^\u001b[0m\n\u001b[1;31mSyntaxError\u001b[0m\u001b[1;31m:\u001b[0m invalid syntax\n"
     ]
    }
   ],
   "source": [
    "Sample = [{Name = 'John_Smith', Age = 32, Profession='Analyst', Children = 1, Marital_status = 'Divorced', location = 'Salesforce UK'}, {Name = 'Mary_Smith', Age = 21, Profession = 'Student', location = 'UvA', origin = 'US'},{Name = 'Tom_Brokaw', Age = 80, Profession = 'Journalist', Children = 3, Marital_status = 'Married', location = 'US'}]"
   ]
  },
  {
   "cell_type": "code",
   "execution_count": null,
   "metadata": {},
   "outputs": [],
   "source": [
    "#What I had in mind is creating a list where there is the information for each participant contained in dictionaries where the first part e.g. age is a variable. So by typing the name of the list and thevariable the values for all three participants would come up. And if I spe ified for one participant I would get one value. I couldn't make that happen."
   ]
  }
 ],
 "metadata": {
  "kernelspec": {
   "display_name": "Python 3",
   "language": "python",
   "name": "python3"
  },
  "language_info": {
   "codemirror_mode": {
    "name": "ipython",
    "version": 3
   },
   "file_extension": ".py",
   "mimetype": "text/x-python",
   "name": "python",
   "nbconvert_exporter": "python",
   "pygments_lexer": "ipython3",
   "version": "3.7.4"
  }
 },
 "nbformat": 4,
 "nbformat_minor": 4
}
